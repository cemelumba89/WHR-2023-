{
 "cells": [
  {
   "cell_type": "markdown",
   "id": "6d98b8a0",
   "metadata": {},
   "source": [
    "# Table of Contents"
   ]
  },
  {
   "cell_type": "markdown",
   "id": "76f1b2c2",
   "metadata": {},
   "source": [
    "## 01. Importing Libraries & Data"
   ]
  },
  {
   "cell_type": "markdown",
   "id": "c019a46b",
   "metadata": {},
   "source": [
    "## 02. Data Cleaning & Consistency Checks "
   ]
  },
  {
   "cell_type": "markdown",
   "id": "89ea00db",
   "metadata": {},
   "source": [
    "## 03. Export the Created Dataframe"
   ]
  },
  {
   "cell_type": "markdown",
   "id": "b60df415",
   "metadata": {},
   "source": [
    "# 01.  Importing Libraries"
   ]
  },
  {
   "cell_type": "code",
   "execution_count": 1,
   "id": "3608101e",
   "metadata": {},
   "outputs": [],
   "source": [
    "#### Import Libraries\n",
    "import pandas as pd\n",
    "import numpy as np\n",
    "import os"
   ]
  },
  {
   "cell_type": "code",
   "execution_count": 2,
   "id": "7461aebc",
   "metadata": {},
   "outputs": [],
   "source": [
    "#### Define the path\n",
    "path = r'C:\\Users\\cemel\\OneDrive\\Documents\\CareerFoundry Documents\\Data Immersion\\Achievement 6 Files\\WHR 2023 Data For Table 2.1.xlsx'"
   ]
  },
  {
   "cell_type": "code",
   "execution_count": 3,
   "id": "0365c170",
   "metadata": {},
   "outputs": [],
   "source": [
    "#### Read The World Happiness Report 2023 Table 2.1 Excel file into a DataFrame\n",
    "df_whrtab = pd.read_excel(path)"
   ]
  },
  {
   "cell_type": "code",
   "execution_count": 4,
   "id": "7bb9fbb4",
   "metadata": {},
   "outputs": [
    {
     "data": {
      "text/html": [
       "<div>\n",
       "<style scoped>\n",
       "    .dataframe tbody tr th:only-of-type {\n",
       "        vertical-align: middle;\n",
       "    }\n",
       "\n",
       "    .dataframe tbody tr th {\n",
       "        vertical-align: top;\n",
       "    }\n",
       "\n",
       "    .dataframe thead th {\n",
       "        text-align: right;\n",
       "    }\n",
       "</style>\n",
       "<table border=\"1\" class=\"dataframe\">\n",
       "  <thead>\n",
       "    <tr style=\"text-align: right;\">\n",
       "      <th></th>\n",
       "      <th>Country name</th>\n",
       "      <th>year</th>\n",
       "      <th>Life Ladder</th>\n",
       "      <th>Log GDP per capita</th>\n",
       "      <th>Social support</th>\n",
       "      <th>Healthy life expectancy at birth</th>\n",
       "      <th>Freedom to make life choices</th>\n",
       "      <th>Generosity</th>\n",
       "      <th>Perceptions of corruption</th>\n",
       "      <th>Positive affect</th>\n",
       "      <th>Negative affect</th>\n",
       "    </tr>\n",
       "  </thead>\n",
       "  <tbody>\n",
       "    <tr>\n",
       "      <th>0</th>\n",
       "      <td>Australia</td>\n",
       "      <td>2005</td>\n",
       "      <td>7.340688</td>\n",
       "      <td>10.662058</td>\n",
       "      <td>0.967892</td>\n",
       "      <td>69.800003</td>\n",
       "      <td>0.934973</td>\n",
       "      <td>NaN</td>\n",
       "      <td>0.390416</td>\n",
       "      <td>0.769770</td>\n",
       "      <td>0.238012</td>\n",
       "    </tr>\n",
       "    <tr>\n",
       "      <th>1</th>\n",
       "      <td>Belgium</td>\n",
       "      <td>2005</td>\n",
       "      <td>7.262290</td>\n",
       "      <td>10.743808</td>\n",
       "      <td>0.934875</td>\n",
       "      <td>68.400002</td>\n",
       "      <td>0.923843</td>\n",
       "      <td>NaN</td>\n",
       "      <td>0.597554</td>\n",
       "      <td>0.676886</td>\n",
       "      <td>0.260380</td>\n",
       "    </tr>\n",
       "    <tr>\n",
       "      <th>2</th>\n",
       "      <td>Brazil</td>\n",
       "      <td>2005</td>\n",
       "      <td>6.636771</td>\n",
       "      <td>9.435151</td>\n",
       "      <td>0.882923</td>\n",
       "      <td>63.099998</td>\n",
       "      <td>0.882186</td>\n",
       "      <td>NaN</td>\n",
       "      <td>0.744994</td>\n",
       "      <td>0.769921</td>\n",
       "      <td>0.301780</td>\n",
       "    </tr>\n",
       "    <tr>\n",
       "      <th>3</th>\n",
       "      <td>Canada</td>\n",
       "      <td>2005</td>\n",
       "      <td>7.418048</td>\n",
       "      <td>10.707299</td>\n",
       "      <td>0.961552</td>\n",
       "      <td>70.500000</td>\n",
       "      <td>0.957306</td>\n",
       "      <td>0.248033</td>\n",
       "      <td>0.502681</td>\n",
       "      <td>0.783299</td>\n",
       "      <td>0.233278</td>\n",
       "    </tr>\n",
       "    <tr>\n",
       "      <th>4</th>\n",
       "      <td>Czechia</td>\n",
       "      <td>2005</td>\n",
       "      <td>6.439257</td>\n",
       "      <td>10.321686</td>\n",
       "      <td>0.918759</td>\n",
       "      <td>67.099998</td>\n",
       "      <td>0.865235</td>\n",
       "      <td>NaN</td>\n",
       "      <td>0.900733</td>\n",
       "      <td>0.638764</td>\n",
       "      <td>0.257949</td>\n",
       "    </tr>\n",
       "    <tr>\n",
       "      <th>...</th>\n",
       "      <td>...</td>\n",
       "      <td>...</td>\n",
       "      <td>...</td>\n",
       "      <td>...</td>\n",
       "      <td>...</td>\n",
       "      <td>...</td>\n",
       "      <td>...</td>\n",
       "      <td>...</td>\n",
       "      <td>...</td>\n",
       "      <td>...</td>\n",
       "      <td>...</td>\n",
       "    </tr>\n",
       "    <tr>\n",
       "      <th>2194</th>\n",
       "      <td>Uruguay</td>\n",
       "      <td>2022</td>\n",
       "      <td>6.670853</td>\n",
       "      <td>10.084121</td>\n",
       "      <td>0.904825</td>\n",
       "      <td>67.500000</td>\n",
       "      <td>0.877969</td>\n",
       "      <td>-0.051668</td>\n",
       "      <td>0.631337</td>\n",
       "      <td>0.774694</td>\n",
       "      <td>0.267485</td>\n",
       "    </tr>\n",
       "    <tr>\n",
       "      <th>2195</th>\n",
       "      <td>Uzbekistan</td>\n",
       "      <td>2022</td>\n",
       "      <td>6.016239</td>\n",
       "      <td>8.989866</td>\n",
       "      <td>0.878923</td>\n",
       "      <td>65.599998</td>\n",
       "      <td>0.959019</td>\n",
       "      <td>0.308951</td>\n",
       "      <td>0.615844</td>\n",
       "      <td>0.741082</td>\n",
       "      <td>0.224580</td>\n",
       "    </tr>\n",
       "    <tr>\n",
       "      <th>2196</th>\n",
       "      <td>Venezuela</td>\n",
       "      <td>2022</td>\n",
       "      <td>5.948992</td>\n",
       "      <td>NaN</td>\n",
       "      <td>0.899366</td>\n",
       "      <td>63.875000</td>\n",
       "      <td>0.770417</td>\n",
       "      <td>NaN</td>\n",
       "      <td>0.798016</td>\n",
       "      <td>0.754337</td>\n",
       "      <td>0.292252</td>\n",
       "    </tr>\n",
       "    <tr>\n",
       "      <th>2197</th>\n",
       "      <td>Vietnam</td>\n",
       "      <td>2022</td>\n",
       "      <td>6.266509</td>\n",
       "      <td>9.332854</td>\n",
       "      <td>0.878744</td>\n",
       "      <td>65.599998</td>\n",
       "      <td>0.975405</td>\n",
       "      <td>-0.178987</td>\n",
       "      <td>0.703423</td>\n",
       "      <td>0.774236</td>\n",
       "      <td>0.108473</td>\n",
       "    </tr>\n",
       "    <tr>\n",
       "      <th>2198</th>\n",
       "      <td>Zimbabwe</td>\n",
       "      <td>2022</td>\n",
       "      <td>3.296220</td>\n",
       "      <td>7.670123</td>\n",
       "      <td>0.666172</td>\n",
       "      <td>54.525002</td>\n",
       "      <td>0.651987</td>\n",
       "      <td>-0.069513</td>\n",
       "      <td>0.752632</td>\n",
       "      <td>0.640609</td>\n",
       "      <td>0.191350</td>\n",
       "    </tr>\n",
       "  </tbody>\n",
       "</table>\n",
       "<p>2199 rows × 11 columns</p>\n",
       "</div>"
      ],
      "text/plain": [
       "     Country name  year  Life Ladder  Log GDP per capita  Social support  \\\n",
       "0       Australia  2005     7.340688           10.662058        0.967892   \n",
       "1         Belgium  2005     7.262290           10.743808        0.934875   \n",
       "2          Brazil  2005     6.636771            9.435151        0.882923   \n",
       "3          Canada  2005     7.418048           10.707299        0.961552   \n",
       "4         Czechia  2005     6.439257           10.321686        0.918759   \n",
       "...           ...   ...          ...                 ...             ...   \n",
       "2194      Uruguay  2022     6.670853           10.084121        0.904825   \n",
       "2195   Uzbekistan  2022     6.016239            8.989866        0.878923   \n",
       "2196    Venezuela  2022     5.948992                 NaN        0.899366   \n",
       "2197      Vietnam  2022     6.266509            9.332854        0.878744   \n",
       "2198     Zimbabwe  2022     3.296220            7.670123        0.666172   \n",
       "\n",
       "      Healthy life expectancy at birth  Freedom to make life choices  \\\n",
       "0                            69.800003                      0.934973   \n",
       "1                            68.400002                      0.923843   \n",
       "2                            63.099998                      0.882186   \n",
       "3                            70.500000                      0.957306   \n",
       "4                            67.099998                      0.865235   \n",
       "...                                ...                           ...   \n",
       "2194                         67.500000                      0.877969   \n",
       "2195                         65.599998                      0.959019   \n",
       "2196                         63.875000                      0.770417   \n",
       "2197                         65.599998                      0.975405   \n",
       "2198                         54.525002                      0.651987   \n",
       "\n",
       "      Generosity  Perceptions of corruption  Positive affect  Negative affect  \n",
       "0            NaN                   0.390416         0.769770         0.238012  \n",
       "1            NaN                   0.597554         0.676886         0.260380  \n",
       "2            NaN                   0.744994         0.769921         0.301780  \n",
       "3       0.248033                   0.502681         0.783299         0.233278  \n",
       "4            NaN                   0.900733         0.638764         0.257949  \n",
       "...          ...                        ...              ...              ...  \n",
       "2194   -0.051668                   0.631337         0.774694         0.267485  \n",
       "2195    0.308951                   0.615844         0.741082         0.224580  \n",
       "2196         NaN                   0.798016         0.754337         0.292252  \n",
       "2197   -0.178987                   0.703423         0.774236         0.108473  \n",
       "2198   -0.069513                   0.752632         0.640609         0.191350  \n",
       "\n",
       "[2199 rows x 11 columns]"
      ]
     },
     "execution_count": 4,
     "metadata": {},
     "output_type": "execute_result"
    }
   ],
   "source": [
    "df_whrtab"
   ]
  },
  {
   "cell_type": "markdown",
   "id": "89eff1f3",
   "metadata": {},
   "source": [
    "# 02. Data Cleaning & Consistency Checks"
   ]
  },
  {
   "cell_type": "code",
   "execution_count": 5,
   "id": "90be9f12",
   "metadata": {},
   "outputs": [],
   "source": [
    "#### Change the column name from 'year' to 'Year' for consistency using the rename() method\n",
    "df_whrtab = df_whrtab.rename(columns={'year': 'Year'})"
   ]
  },
  {
   "cell_type": "code",
   "execution_count": 6,
   "id": "f991074f",
   "metadata": {
    "scrolled": true
   },
   "outputs": [
    {
     "data": {
      "text/plain": [
       "Index(['Country name', 'Year', 'Life Ladder', 'Log GDP per capita',\n",
       "       'Social support', 'Healthy life expectancy at birth',\n",
       "       'Freedom to make life choices', 'Generosity',\n",
       "       'Perceptions of corruption', 'Positive affect', 'Negative affect'],\n",
       "      dtype='object')"
      ]
     },
     "execution_count": 6,
     "metadata": {},
     "output_type": "execute_result"
    }
   ],
   "source": [
    "#### Confirm column name change\n",
    "df_whrtab.columns"
   ]
  },
  {
   "cell_type": "code",
   "execution_count": 7,
   "id": "f9f161b2",
   "metadata": {},
   "outputs": [],
   "source": [
    "#### Check for duplicates in dataset\n",
    "df_dups = df_whrtab[df_whrtab.duplicated()]"
   ]
  },
  {
   "cell_type": "code",
   "execution_count": 8,
   "id": "c3d52fdd",
   "metadata": {},
   "outputs": [
    {
     "data": {
      "text/html": [
       "<div>\n",
       "<style scoped>\n",
       "    .dataframe tbody tr th:only-of-type {\n",
       "        vertical-align: middle;\n",
       "    }\n",
       "\n",
       "    .dataframe tbody tr th {\n",
       "        vertical-align: top;\n",
       "    }\n",
       "\n",
       "    .dataframe thead th {\n",
       "        text-align: right;\n",
       "    }\n",
       "</style>\n",
       "<table border=\"1\" class=\"dataframe\">\n",
       "  <thead>\n",
       "    <tr style=\"text-align: right;\">\n",
       "      <th></th>\n",
       "      <th>Country name</th>\n",
       "      <th>Year</th>\n",
       "      <th>Life Ladder</th>\n",
       "      <th>Log GDP per capita</th>\n",
       "      <th>Social support</th>\n",
       "      <th>Healthy life expectancy at birth</th>\n",
       "      <th>Freedom to make life choices</th>\n",
       "      <th>Generosity</th>\n",
       "      <th>Perceptions of corruption</th>\n",
       "      <th>Positive affect</th>\n",
       "      <th>Negative affect</th>\n",
       "    </tr>\n",
       "  </thead>\n",
       "  <tbody>\n",
       "  </tbody>\n",
       "</table>\n",
       "</div>"
      ],
      "text/plain": [
       "Empty DataFrame\n",
       "Columns: [Country name, Year, Life Ladder, Log GDP per capita, Social support, Healthy life expectancy at birth, Freedom to make life choices, Generosity, Perceptions of corruption, Positive affect, Negative affect]\n",
       "Index: []"
      ]
     },
     "execution_count": 8,
     "metadata": {},
     "output_type": "execute_result"
    }
   ],
   "source": [
    "df_dups"
   ]
  },
  {
   "cell_type": "markdown",
   "id": "94c49ef5",
   "metadata": {},
   "source": [
    "### Comments: No duplicate records found in dataset"
   ]
  },
  {
   "cell_type": "code",
   "execution_count": 9,
   "id": "5836f816",
   "metadata": {
    "scrolled": true
   },
   "outputs": [
    {
     "data": {
      "text/html": [
       "<div>\n",
       "<style scoped>\n",
       "    .dataframe tbody tr th:only-of-type {\n",
       "        vertical-align: middle;\n",
       "    }\n",
       "\n",
       "    .dataframe tbody tr th {\n",
       "        vertical-align: top;\n",
       "    }\n",
       "\n",
       "    .dataframe thead th {\n",
       "        text-align: right;\n",
       "    }\n",
       "</style>\n",
       "<table border=\"1\" class=\"dataframe\">\n",
       "  <thead>\n",
       "    <tr style=\"text-align: right;\">\n",
       "      <th></th>\n",
       "      <th>Year</th>\n",
       "      <th>Life Ladder</th>\n",
       "      <th>Log GDP per capita</th>\n",
       "      <th>Social support</th>\n",
       "      <th>Healthy life expectancy at birth</th>\n",
       "      <th>Freedom to make life choices</th>\n",
       "      <th>Generosity</th>\n",
       "      <th>Perceptions of corruption</th>\n",
       "      <th>Positive affect</th>\n",
       "      <th>Negative affect</th>\n",
       "    </tr>\n",
       "  </thead>\n",
       "  <tbody>\n",
       "    <tr>\n",
       "      <th>count</th>\n",
       "      <td>2199.000000</td>\n",
       "      <td>2199.000000</td>\n",
       "      <td>2179.000000</td>\n",
       "      <td>2186.000000</td>\n",
       "      <td>2145.000000</td>\n",
       "      <td>2166.000000</td>\n",
       "      <td>2126.000000</td>\n",
       "      <td>2083.000000</td>\n",
       "      <td>2175.000000</td>\n",
       "      <td>2183.000000</td>\n",
       "    </tr>\n",
       "    <tr>\n",
       "      <th>mean</th>\n",
       "      <td>2014.161437</td>\n",
       "      <td>5.479226</td>\n",
       "      <td>9.389766</td>\n",
       "      <td>0.810679</td>\n",
       "      <td>63.294583</td>\n",
       "      <td>0.747858</td>\n",
       "      <td>0.000096</td>\n",
       "      <td>0.745195</td>\n",
       "      <td>0.652143</td>\n",
       "      <td>0.271501</td>\n",
       "    </tr>\n",
       "    <tr>\n",
       "      <th>std</th>\n",
       "      <td>4.718736</td>\n",
       "      <td>1.125529</td>\n",
       "      <td>1.153387</td>\n",
       "      <td>0.120952</td>\n",
       "      <td>6.901104</td>\n",
       "      <td>0.140150</td>\n",
       "      <td>0.161083</td>\n",
       "      <td>0.185837</td>\n",
       "      <td>0.105922</td>\n",
       "      <td>0.086875</td>\n",
       "    </tr>\n",
       "    <tr>\n",
       "      <th>min</th>\n",
       "      <td>2005.000000</td>\n",
       "      <td>1.281271</td>\n",
       "      <td>5.526723</td>\n",
       "      <td>0.228217</td>\n",
       "      <td>6.720000</td>\n",
       "      <td>0.257534</td>\n",
       "      <td>-0.337527</td>\n",
       "      <td>0.035198</td>\n",
       "      <td>0.178886</td>\n",
       "      <td>0.082737</td>\n",
       "    </tr>\n",
       "    <tr>\n",
       "      <th>25%</th>\n",
       "      <td>2010.000000</td>\n",
       "      <td>4.646750</td>\n",
       "      <td>8.499764</td>\n",
       "      <td>0.746609</td>\n",
       "      <td>59.119999</td>\n",
       "      <td>0.656528</td>\n",
       "      <td>-0.112116</td>\n",
       "      <td>0.688139</td>\n",
       "      <td>0.571684</td>\n",
       "      <td>0.207660</td>\n",
       "    </tr>\n",
       "    <tr>\n",
       "      <th>50%</th>\n",
       "      <td>2014.000000</td>\n",
       "      <td>5.432437</td>\n",
       "      <td>9.498955</td>\n",
       "      <td>0.835535</td>\n",
       "      <td>65.050003</td>\n",
       "      <td>0.769821</td>\n",
       "      <td>-0.022671</td>\n",
       "      <td>0.799654</td>\n",
       "      <td>0.663063</td>\n",
       "      <td>0.260671</td>\n",
       "    </tr>\n",
       "    <tr>\n",
       "      <th>75%</th>\n",
       "      <td>2018.000000</td>\n",
       "      <td>6.309460</td>\n",
       "      <td>10.373216</td>\n",
       "      <td>0.904792</td>\n",
       "      <td>68.500000</td>\n",
       "      <td>0.859382</td>\n",
       "      <td>0.092070</td>\n",
       "      <td>0.868827</td>\n",
       "      <td>0.737936</td>\n",
       "      <td>0.322894</td>\n",
       "    </tr>\n",
       "    <tr>\n",
       "      <th>max</th>\n",
       "      <td>2022.000000</td>\n",
       "      <td>8.018934</td>\n",
       "      <td>11.663788</td>\n",
       "      <td>0.987343</td>\n",
       "      <td>74.474998</td>\n",
       "      <td>0.985178</td>\n",
       "      <td>0.702708</td>\n",
       "      <td>0.983276</td>\n",
       "      <td>0.883586</td>\n",
       "      <td>0.704590</td>\n",
       "    </tr>\n",
       "  </tbody>\n",
       "</table>\n",
       "</div>"
      ],
      "text/plain": [
       "              Year  Life Ladder  Log GDP per capita  Social support  \\\n",
       "count  2199.000000  2199.000000         2179.000000     2186.000000   \n",
       "mean   2014.161437     5.479226            9.389766        0.810679   \n",
       "std       4.718736     1.125529            1.153387        0.120952   \n",
       "min    2005.000000     1.281271            5.526723        0.228217   \n",
       "25%    2010.000000     4.646750            8.499764        0.746609   \n",
       "50%    2014.000000     5.432437            9.498955        0.835535   \n",
       "75%    2018.000000     6.309460           10.373216        0.904792   \n",
       "max    2022.000000     8.018934           11.663788        0.987343   \n",
       "\n",
       "       Healthy life expectancy at birth  Freedom to make life choices  \\\n",
       "count                       2145.000000                   2166.000000   \n",
       "mean                          63.294583                      0.747858   \n",
       "std                            6.901104                      0.140150   \n",
       "min                            6.720000                      0.257534   \n",
       "25%                           59.119999                      0.656528   \n",
       "50%                           65.050003                      0.769821   \n",
       "75%                           68.500000                      0.859382   \n",
       "max                           74.474998                      0.985178   \n",
       "\n",
       "        Generosity  Perceptions of corruption  Positive affect  \\\n",
       "count  2126.000000                2083.000000      2175.000000   \n",
       "mean      0.000096                   0.745195         0.652143   \n",
       "std       0.161083                   0.185837         0.105922   \n",
       "min      -0.337527                   0.035198         0.178886   \n",
       "25%      -0.112116                   0.688139         0.571684   \n",
       "50%      -0.022671                   0.799654         0.663063   \n",
       "75%       0.092070                   0.868827         0.737936   \n",
       "max       0.702708                   0.983276         0.883586   \n",
       "\n",
       "       Negative affect  \n",
       "count      2183.000000  \n",
       "mean          0.271501  \n",
       "std           0.086875  \n",
       "min           0.082737  \n",
       "25%           0.207660  \n",
       "50%           0.260671  \n",
       "75%           0.322894  \n",
       "max           0.704590  "
      ]
     },
     "execution_count": 9,
     "metadata": {},
     "output_type": "execute_result"
    }
   ],
   "source": [
    "df_whrtab.describe()"
   ]
  },
  {
   "cell_type": "code",
   "execution_count": 10,
   "id": "2bfbe6cf",
   "metadata": {},
   "outputs": [
    {
     "name": "stdout",
     "output_type": "stream",
     "text": [
      "Year\n",
      "Life Ladder\n",
      "Log GDP per capita\n",
      "Social support\n",
      "Healthy life expectancy at birth\n",
      "Freedom to make life choices\n",
      "Generosity\n",
      "Perceptions of corruption\n",
      "Positive affect\n",
      "Negative affect\n"
     ]
    }
   ],
   "source": [
    "#### Check for mixed types\n",
    "for col in df_whrtab.columns.tolist():\n",
    "    weird = df_whrtab[col].apply(type).ne(type(df_whrtab[col].iloc[0])).any()\n",
    "    if weird:\n",
    "        print(col)"
   ]
  },
  {
   "cell_type": "markdown",
   "id": "6c192ad1",
   "metadata": {},
   "source": [
    "### Comments: I will try to indirectly solve this problem by addressing other data inconsistencies. If the problem persists, I will directly convert data types for each of the columns listed. "
   ]
  },
  {
   "cell_type": "code",
   "execution_count": 11,
   "id": "5b987d89",
   "metadata": {},
   "outputs": [
    {
     "data": {
      "text/plain": [
       "Country name                          0\n",
       "Year                                  0\n",
       "Life Ladder                           0\n",
       "Log GDP per capita                   20\n",
       "Social support                       13\n",
       "Healthy life expectancy at birth     54\n",
       "Freedom to make life choices         33\n",
       "Generosity                           73\n",
       "Perceptions of corruption           116\n",
       "Positive affect                      24\n",
       "Negative affect                      16\n",
       "dtype: int64"
      ]
     },
     "execution_count": 11,
     "metadata": {},
     "output_type": "execute_result"
    }
   ],
   "source": [
    "#### Check for missing values/observations\n",
    "df_whrtab.isnull().sum()"
   ]
  },
  {
   "cell_type": "markdown",
   "id": "7254ecbf",
   "metadata": {},
   "source": [
    "### Comments: I am considering replacing the missing values in each column with the mean value of each column. However to check if replacing missing values with the mean constitutes less than 5% of the data, I will calculate the percentage of missing values in each column and then compare it to 5%"
   ]
  },
  {
   "cell_type": "code",
   "execution_count": 12,
   "id": "789c2c08",
   "metadata": {},
   "outputs": [],
   "source": [
    "#### Calculate the total number of entries in the DataFrame\n",
    "total_entries = df_whrtab.shape[0] * df_whrtab.shape[1]"
   ]
  },
  {
   "cell_type": "code",
   "execution_count": 13,
   "id": "73240bf7",
   "metadata": {},
   "outputs": [],
   "source": [
    "#### Calculate the total number of missing values\n",
    "total_missing_values = df_whrtab.isnull().sum().sum()"
   ]
  },
  {
   "cell_type": "code",
   "execution_count": 14,
   "id": "bd49e804",
   "metadata": {},
   "outputs": [],
   "source": [
    "#### Calculate the percentage of missing values\n",
    "percentage_missing_values = (total_missing_values / total_entries) * 100"
   ]
  },
  {
   "cell_type": "code",
   "execution_count": 15,
   "id": "2e1d6465",
   "metadata": {},
   "outputs": [
    {
     "name": "stdout",
     "output_type": "stream",
     "text": [
      "Percentage of missing values: 1.4428045805944851\n"
     ]
    }
   ],
   "source": [
    "#### Print the percentage of missing values\n",
    "print(\"Percentage of missing values:\", percentage_missing_values)"
   ]
  },
  {
   "cell_type": "markdown",
   "id": "7c6e0a71",
   "metadata": {},
   "source": [
    "### Comments: Based on 'Percentage of missing values', I will replace the missing values of each column with the mean of each column."
   ]
  },
  {
   "cell_type": "markdown",
   "id": "add871fc",
   "metadata": {},
   "source": [
    "### Replace the missing values in each column with the mean of that column using the 'fillna' method."
   ]
  },
  {
   "cell_type": "code",
   "execution_count": 16,
   "id": "e7743c5b",
   "metadata": {},
   "outputs": [],
   "source": [
    "#### List of columns with missing values\n",
    "columns_with_missing_values = ['Log GDP per capita', 'Social support', 'Healthy life expectancy at birth',\n",
    "                                'Freedom to make life choices', 'Generosity', 'Perceptions of corruption',\n",
    "                                'Positive affect', 'Negative affect']"
   ]
  },
  {
   "cell_type": "code",
   "execution_count": 17,
   "id": "6f5b1e12",
   "metadata": {},
   "outputs": [],
   "source": [
    "#### Replace missing values with the mean of each column\n",
    "for column in columns_with_missing_values:\n",
    "    mean_value = df_whrtab[column].mean()\n",
    "    df_whrtab[column].fillna(mean_value, inplace=True)"
   ]
  },
  {
   "cell_type": "code",
   "execution_count": 18,
   "id": "e7415574",
   "metadata": {},
   "outputs": [
    {
     "name": "stdout",
     "output_type": "stream",
     "text": [
      "Missing values after replacement:\n",
      "Country name                        0\n",
      "Year                                0\n",
      "Life Ladder                         0\n",
      "Log GDP per capita                  0\n",
      "Social support                      0\n",
      "Healthy life expectancy at birth    0\n",
      "Freedom to make life choices        0\n",
      "Generosity                          0\n",
      "Perceptions of corruption           0\n",
      "Positive affect                     0\n",
      "Negative affect                     0\n",
      "dtype: int64\n"
     ]
    }
   ],
   "source": [
    "#### Verify that missing values have been replaced\n",
    "missing_values_after_replace = df_whrtab.isnull().sum()\n",
    "print(\"Missing values after replacement:\")\n",
    "print(missing_values_after_replace)"
   ]
  },
  {
   "cell_type": "markdown",
   "id": "4024fbb1",
   "metadata": {},
   "source": [
    "### Missing values replacement complete!"
   ]
  },
  {
   "cell_type": "code",
   "execution_count": 19,
   "id": "2272bbb6",
   "metadata": {},
   "outputs": [
    {
     "name": "stdout",
     "output_type": "stream",
     "text": [
      "Year\n",
      "Life Ladder\n",
      "Log GDP per capita\n",
      "Social support\n",
      "Healthy life expectancy at birth\n",
      "Freedom to make life choices\n",
      "Generosity\n",
      "Perceptions of corruption\n",
      "Positive affect\n",
      "Negative affect\n"
     ]
    }
   ],
   "source": [
    "#### Recheck for mixed types\n",
    "for col in df_whrtab.columns.tolist():\n",
    "    weird = df_whrtab[col].apply(type).ne(type(df_whrtab[col].iloc[0])).any()\n",
    "    if weird:\n",
    "        print(col)"
   ]
  },
  {
   "cell_type": "code",
   "execution_count": 20,
   "id": "274bc03d",
   "metadata": {},
   "outputs": [
    {
     "data": {
      "text/plain": [
       "Country name                         object\n",
       "Year                                  int64\n",
       "Life Ladder                         float64\n",
       "Log GDP per capita                  float64\n",
       "Social support                      float64\n",
       "Healthy life expectancy at birth    float64\n",
       "Freedom to make life choices        float64\n",
       "Generosity                          float64\n",
       "Perceptions of corruption           float64\n",
       "Positive affect                     float64\n",
       "Negative affect                     float64\n",
       "dtype: object"
      ]
     },
     "execution_count": 20,
     "metadata": {},
     "output_type": "execute_result"
    }
   ],
   "source": [
    "#### Check column data types\n",
    "df_whrtab.dtypes"
   ]
  },
  {
   "cell_type": "markdown",
   "id": "798e9961",
   "metadata": {},
   "source": [
    "### Comments: Because the appearance of mixed type data might be due to the presence of NaN (Not a Number) values in these columns, I will try to replace any NaNs with zeroes before rechecking for mixed data types. "
   ]
  },
  {
   "cell_type": "code",
   "execution_count": 21,
   "id": "dae4cc30",
   "metadata": {},
   "outputs": [],
   "source": [
    "#### Fill NaN values with 0 in numeric columns\n",
    "df_whrtab.fillna(0, inplace=True)"
   ]
  },
  {
   "cell_type": "code",
   "execution_count": 22,
   "id": "007dfdff",
   "metadata": {},
   "outputs": [
    {
     "name": "stdout",
     "output_type": "stream",
     "text": [
      "Year\n",
      "Life Ladder\n",
      "Log GDP per capita\n",
      "Social support\n",
      "Healthy life expectancy at birth\n",
      "Freedom to make life choices\n",
      "Generosity\n",
      "Perceptions of corruption\n",
      "Positive affect\n",
      "Negative affect\n"
     ]
    }
   ],
   "source": [
    "#### Re-check for mixed types\n",
    "for col in df_whrtab.columns:\n",
    "    weird = df_whrtab[col].apply(type).ne(type(df_whrtab[col].iloc[0])).any()\n",
    "    if weird:\n",
    "        print(col)"
   ]
  },
  {
   "cell_type": "code",
   "execution_count": 23,
   "id": "9bc50232",
   "metadata": {},
   "outputs": [],
   "source": [
    "#### Convert Year column to string data type\n",
    "df_whrtab['Year'] = df_whrtab['Year'].astype(str)"
   ]
  },
  {
   "cell_type": "code",
   "execution_count": 24,
   "id": "58fd1555",
   "metadata": {},
   "outputs": [
    {
     "name": "stdout",
     "output_type": "stream",
     "text": [
      "Life Ladder\n",
      "Log GDP per capita\n",
      "Social support\n",
      "Healthy life expectancy at birth\n",
      "Freedom to make life choices\n",
      "Generosity\n",
      "Perceptions of corruption\n",
      "Positive affect\n",
      "Negative affect\n"
     ]
    }
   ],
   "source": [
    "#### Re-check for mixed types\n",
    "for col in df_whrtab.columns:\n",
    "    weird = df_whrtab[col].apply(type).ne(type(df_whrtab[col].iloc[0])).any()\n",
    "    if weird:\n",
    "        print(col)"
   ]
  },
  {
   "cell_type": "markdown",
   "id": "79196c86",
   "metadata": {},
   "source": [
    "### Comments: In order to try and detect the causes of this repeated appearance of the columns above when code is run for mixed types, I am going to check for unique values and perform a count of those values. "
   ]
  },
  {
   "cell_type": "code",
   "execution_count": 25,
   "id": "4bd04007",
   "metadata": {},
   "outputs": [],
   "source": [
    "#### Identify the problem columns of interest\n",
    "columns_of_interest = ['Life Ladder', 'Log GDP per capita', 'Social support', \n",
    "                       'Healthy life expectancy at birth', 'Freedom to make life choices', \n",
    "                       'Generosity', 'Perceptions of corruption', 'Positive affect', \n",
    "                       'Negative affect']"
   ]
  },
  {
   "cell_type": "code",
   "execution_count": 26,
   "id": "f6d964fe",
   "metadata": {},
   "outputs": [
    {
     "name": "stdout",
     "output_type": "stream",
     "text": [
      "Column: Life Ladder\n",
      "Unique Values: [7.34068823 7.26229048 6.6367712  ... 5.94899225 6.26650858 3.29621959]\n",
      "Value Counts:\n",
      "Life Ladder\n",
      "7.340688    1\n",
      "6.065039    1\n",
      "5.148242    1\n",
      "6.325119    1\n",
      "4.873723    1\n",
      "           ..\n",
      "4.773145    1\n",
      "6.018895    1\n",
      "3.193469    1\n",
      "6.935122    1\n",
      "3.296220    1\n",
      "Name: count, Length: 2199, dtype: int64\n",
      "\n",
      "Column: Log GDP per capita\n",
      "Unique Values: [10.66205788 10.74380779  9.4351511  ...  8.98986626  9.33285427\n",
      "  7.67012262]\n",
      "Value Counts:\n",
      "Log GDP per capita\n",
      "9.389766     20\n",
      "10.662058     1\n",
      "9.580395      1\n",
      "7.563740      1\n",
      "9.517068      1\n",
      "             ..\n",
      "7.894076      1\n",
      "10.783341     1\n",
      "9.831532      1\n",
      "8.231358      1\n",
      "7.670123      1\n",
      "Name: count, Length: 2180, dtype: int64\n",
      "\n",
      "Column: Social support\n",
      "Unique Values: [0.96789217 0.93487471 0.88292295 ... 0.89936632 0.87874401 0.66617191]\n",
      "Value Counts:\n",
      "Social support\n",
      "0.810679    13\n",
      "0.967892     1\n",
      "0.795589     1\n",
      "0.646985     1\n",
      "0.843355     1\n",
      "            ..\n",
      "0.743766     1\n",
      "0.837967     1\n",
      "0.890314     1\n",
      "0.836743     1\n",
      "0.666172     1\n",
      "Name: count, Length: 2187, dtype: int64\n",
      "\n",
      "Column: Healthy life expectancy at birth\n",
      "Unique Values: [69.80000305 68.40000153 63.09999847 ... 73.92500305 72.47499847\n",
      " 59.84999847]\n",
      "Value Counts:\n",
      "Healthy life expectancy at birth\n",
      "63.294583    54\n",
      "66.599998    16\n",
      "70.000000    16\n",
      "65.800003    16\n",
      "67.000000    12\n",
      "             ..\n",
      "52.419998     1\n",
      "53.840000     1\n",
      "52.660000     1\n",
      "63.880001     1\n",
      "59.849998     1\n",
      "Name: count, Length: 1108, dtype: int64\n",
      "\n",
      "Column: Freedom to make life choices\n",
      "Unique Values: [0.9349733  0.92384303 0.88218611 ... 0.77041674 0.97540516 0.65198714]\n",
      "Value Counts:\n",
      "Freedom to make life choices\n",
      "0.747858    33\n",
      "0.683558     2\n",
      "0.934973     1\n",
      "0.865026     1\n",
      "0.898377     1\n",
      "            ..\n",
      "0.848606     1\n",
      "0.799410     1\n",
      "0.419789     1\n",
      "0.862380     1\n",
      "0.651987     1\n",
      "Name: count, Length: 2166, dtype: int64\n",
      "\n",
      "Column: Generosity\n",
      "Unique Values: [ 9.64520104e-05  2.48032972e-01 -1.59916088e-01 ...  3.08950752e-01\n",
      " -1.78986996e-01 -6.95132837e-02]\n",
      "Value Counts:\n",
      "Generosity\n",
      " 0.000096    73\n",
      " 0.484792     1\n",
      " 0.140637     1\n",
      "-0.007804     1\n",
      " 0.114815     1\n",
      "             ..\n",
      " 0.093665     1\n",
      "-0.247485     1\n",
      " 0.039021     1\n",
      "-0.033436     1\n",
      "-0.069513     1\n",
      "Name: count, Length: 2127, dtype: int64\n",
      "\n",
      "Column: Perceptions of corruption\n",
      "Unique Values: [0.39041594 0.59755445 0.74499404 ... 0.79801643 0.7034229  0.75263208]\n",
      "Value Counts:\n",
      "Perceptions of corruption\n",
      "0.745195    116\n",
      "0.390416      1\n",
      "0.900416      1\n",
      "0.647192      1\n",
      "0.783429      1\n",
      "           ... \n",
      "0.763155      1\n",
      "0.770586      1\n",
      "0.368252      1\n",
      "0.892544      1\n",
      "0.752632      1\n",
      "Name: count, Length: 2084, dtype: int64\n",
      "\n",
      "Column: Positive affect\n",
      "Unique Values: [0.76977032 0.67688566 0.76992124 ... 0.75433695 0.77423638 0.64060926]\n",
      "Value Counts:\n",
      "Positive affect\n",
      "0.652143    24\n",
      "0.578831     1\n",
      "0.701789     1\n",
      "0.570107     1\n",
      "0.796158     1\n",
      "            ..\n",
      "0.486567     1\n",
      "0.509555     1\n",
      "0.685311     1\n",
      "0.694941     1\n",
      "0.640609     1\n",
      "Name: count, Length: 2176, dtype: int64\n",
      "\n",
      "Column: Negative affect\n",
      "Unique Values: [0.23801209 0.26037994 0.30177984 ... 0.292252   0.10847342 0.1913503 ]\n",
      "Value Counts:\n",
      "Negative affect\n",
      "0.271501    16\n",
      "0.238012     1\n",
      "0.180921     1\n",
      "0.308086     1\n",
      "0.422461     1\n",
      "            ..\n",
      "0.349759     1\n",
      "0.171257     1\n",
      "0.338241     1\n",
      "0.408880     1\n",
      "0.191350     1\n",
      "Name: count, Length: 2184, dtype: int64\n",
      "\n"
     ]
    }
   ],
   "source": [
    "#### Check unique values and counts of unique values for all the problem columns\n",
    "for col in columns_of_interest:\n",
    "    print(f\"Column: {col}\")\n",
    "    print(f\"Unique Values: {df_whrtab[col].unique()}\")\n",
    "    print(f\"Value Counts:\\n{df_whrtab[col].value_counts()}\\n\")"
   ]
  },
  {
   "cell_type": "markdown",
   "id": "7ae6c561",
   "metadata": {},
   "source": [
    "### Comments: I will try to identify outlier next as additional step for evaluating the possibility of addressing the issue of mixed data types. "
   ]
  },
  {
   "cell_type": "markdown",
   "id": "8ace42a2",
   "metadata": {},
   "source": [
    "### Check for outliers in the data using the interquartile range (IQR) method"
   ]
  },
  {
   "cell_type": "code",
   "execution_count": 27,
   "id": "0971b319",
   "metadata": {},
   "outputs": [],
   "source": [
    "#### Exclude non-numeric columns (Specifically 'Country name' [dtype: object] and 'Year' [dtype: 'str' by conversion])\n",
    "numeric_columns = df_whrtab.select_dtypes(include=['number']).columns"
   ]
  },
  {
   "cell_type": "code",
   "execution_count": 28,
   "id": "b71b64a9",
   "metadata": {},
   "outputs": [],
   "source": [
    "#### Calculate the IQR for numeric columns\n",
    "Q1 = df_whrtab[numeric_columns].quantile(0.25)\n",
    "Q3 = df_whrtab[numeric_columns].quantile(0.75)\n",
    "IQR = Q3 - Q1"
   ]
  },
  {
   "cell_type": "code",
   "execution_count": 29,
   "id": "9d85e9c6",
   "metadata": {},
   "outputs": [],
   "source": [
    "#### Define the threshold for outliers\n",
    "threshold = 1.5"
   ]
  },
  {
   "cell_type": "code",
   "execution_count": 30,
   "id": "99b4d8ba",
   "metadata": {},
   "outputs": [],
   "source": [
    "#### Identify outliers for numeric columns only\n",
    "outliers = {}\n",
    "for col in numeric_columns:\n",
    "    outliers[col] = (df_whrtab[col] < (Q1[col] - threshold * IQR[col])) | (df_whrtab[col] > (Q3[col] + threshold * IQR[col]))\n"
   ]
  },
  {
   "cell_type": "code",
   "execution_count": 31,
   "id": "944f47cd",
   "metadata": {},
   "outputs": [
    {
     "data": {
      "text/plain": [
       "{'Life Ladder': 0       False\n",
       " 1       False\n",
       " 2       False\n",
       " 3       False\n",
       " 4       False\n",
       "         ...  \n",
       " 2194    False\n",
       " 2195    False\n",
       " 2196    False\n",
       " 2197    False\n",
       " 2198    False\n",
       " Name: Life Ladder, Length: 2199, dtype: bool,\n",
       " 'Log GDP per capita': 0       False\n",
       " 1       False\n",
       " 2       False\n",
       " 3       False\n",
       " 4       False\n",
       "         ...  \n",
       " 2194    False\n",
       " 2195    False\n",
       " 2196    False\n",
       " 2197    False\n",
       " 2198    False\n",
       " Name: Log GDP per capita, Length: 2199, dtype: bool,\n",
       " 'Social support': 0       False\n",
       " 1       False\n",
       " 2       False\n",
       " 3       False\n",
       " 4       False\n",
       "         ...  \n",
       " 2194    False\n",
       " 2195    False\n",
       " 2196    False\n",
       " 2197    False\n",
       " 2198    False\n",
       " Name: Social support, Length: 2199, dtype: bool,\n",
       " 'Healthy life expectancy at birth': 0       False\n",
       " 1       False\n",
       " 2       False\n",
       " 3       False\n",
       " 4       False\n",
       "         ...  \n",
       " 2194    False\n",
       " 2195    False\n",
       " 2196    False\n",
       " 2197    False\n",
       " 2198    False\n",
       " Name: Healthy life expectancy at birth, Length: 2199, dtype: bool,\n",
       " 'Freedom to make life choices': 0       False\n",
       " 1       False\n",
       " 2       False\n",
       " 3       False\n",
       " 4       False\n",
       "         ...  \n",
       " 2194    False\n",
       " 2195    False\n",
       " 2196    False\n",
       " 2197    False\n",
       " 2198    False\n",
       " Name: Freedom to make life choices, Length: 2199, dtype: bool,\n",
       " 'Generosity': 0       False\n",
       " 1       False\n",
       " 2       False\n",
       " 3       False\n",
       " 4       False\n",
       "         ...  \n",
       " 2194    False\n",
       " 2195    False\n",
       " 2196    False\n",
       " 2197    False\n",
       " 2198    False\n",
       " Name: Generosity, Length: 2199, dtype: bool,\n",
       " 'Perceptions of corruption': 0        True\n",
       " 1       False\n",
       " 2       False\n",
       " 3       False\n",
       " 4       False\n",
       "         ...  \n",
       " 2194    False\n",
       " 2195    False\n",
       " 2196    False\n",
       " 2197    False\n",
       " 2198    False\n",
       " Name: Perceptions of corruption, Length: 2199, dtype: bool,\n",
       " 'Positive affect': 0       False\n",
       " 1       False\n",
       " 2       False\n",
       " 3       False\n",
       " 4       False\n",
       "         ...  \n",
       " 2194    False\n",
       " 2195    False\n",
       " 2196    False\n",
       " 2197    False\n",
       " 2198    False\n",
       " Name: Positive affect, Length: 2199, dtype: bool,\n",
       " 'Negative affect': 0       False\n",
       " 1       False\n",
       " 2       False\n",
       " 3       False\n",
       " 4       False\n",
       "         ...  \n",
       " 2194    False\n",
       " 2195    False\n",
       " 2196    False\n",
       " 2197    False\n",
       " 2198    False\n",
       " Name: Negative affect, Length: 2199, dtype: bool}"
      ]
     },
     "execution_count": 31,
     "metadata": {},
     "output_type": "execute_result"
    }
   ],
   "source": [
    "outliers"
   ]
  },
  {
   "cell_type": "code",
   "execution_count": 32,
   "id": "bd7dd577",
   "metadata": {},
   "outputs": [],
   "source": [
    "#### To investigate the outliers that appear to be indicated by 'True' values under the 'Perceptions of corruption' column, I will filter the DataFrame to only include rows where the values in this column are considered outliers.\n",
    "outliers2 = df_whrtab[df_whrtab['Perceptions of corruption'] == True]"
   ]
  },
  {
   "cell_type": "code",
   "execution_count": 33,
   "id": "fe952e7b",
   "metadata": {},
   "outputs": [
    {
     "data": {
      "text/html": [
       "<div>\n",
       "<style scoped>\n",
       "    .dataframe tbody tr th:only-of-type {\n",
       "        vertical-align: middle;\n",
       "    }\n",
       "\n",
       "    .dataframe tbody tr th {\n",
       "        vertical-align: top;\n",
       "    }\n",
       "\n",
       "    .dataframe thead th {\n",
       "        text-align: right;\n",
       "    }\n",
       "</style>\n",
       "<table border=\"1\" class=\"dataframe\">\n",
       "  <thead>\n",
       "    <tr style=\"text-align: right;\">\n",
       "      <th></th>\n",
       "      <th>Country name</th>\n",
       "      <th>Year</th>\n",
       "      <th>Life Ladder</th>\n",
       "      <th>Log GDP per capita</th>\n",
       "      <th>Social support</th>\n",
       "      <th>Healthy life expectancy at birth</th>\n",
       "      <th>Freedom to make life choices</th>\n",
       "      <th>Generosity</th>\n",
       "      <th>Perceptions of corruption</th>\n",
       "      <th>Positive affect</th>\n",
       "      <th>Negative affect</th>\n",
       "    </tr>\n",
       "  </thead>\n",
       "  <tbody>\n",
       "  </tbody>\n",
       "</table>\n",
       "</div>"
      ],
      "text/plain": [
       "Empty DataFrame\n",
       "Columns: [Country name, Year, Life Ladder, Log GDP per capita, Social support, Healthy life expectancy at birth, Freedom to make life choices, Generosity, Perceptions of corruption, Positive affect, Negative affect]\n",
       "Index: []"
      ]
     },
     "execution_count": 33,
     "metadata": {},
     "output_type": "execute_result"
    }
   ],
   "source": [
    "outliers2"
   ]
  },
  {
   "cell_type": "markdown",
   "id": "4c8f6cd9",
   "metadata": {},
   "source": [
    "### Comments: This indicates that there are no rows that need to be flagged as outliers and thus, no columns (including 'Perceptions of corruption') containing values that meet criteria for being identified as outliers. At this point, the columns, 'Life Ladder', 'Log GDP per capita', 'Social support', 'Healthy life expectancy at birth', 'Freedom to make life choices', 'Generosity', 'Perceptions of corruption', 'Positive affect', 'Negative affect', will be left with their current dtypes (viz. 'float64'). Seeking to change them to either integer or string type in order to address the problem of the columns appearing as containing mixed data types is inadvisable due to the potential for loss of precision and other problems that may arise from that conversion. "
   ]
  },
  {
   "cell_type": "markdown",
   "id": "10f75984",
   "metadata": {},
   "source": [
    "# 03. Export the Created Dataframe"
   ]
  },
  {
   "cell_type": "code",
   "execution_count": 34,
   "id": "aa6bc3a4",
   "metadata": {},
   "outputs": [],
   "source": [
    "#### Define the directory path\n",
    "directory = r'C:\\Users\\cemel\\OneDrive\\Documents\\CareerFoundry Documents\\Data Immersion\\Achievement 6 Files\\My Python Scripts'"
   ]
  },
  {
   "cell_type": "code",
   "execution_count": 35,
   "id": "6690b98c",
   "metadata": {},
   "outputs": [],
   "source": [
    "#### Define the filename\n",
    "filename = 'WHR 2023 Data Table for 2.1 (Python Cleaned).xlsx'"
   ]
  },
  {
   "cell_type": "code",
   "execution_count": 36,
   "id": "2daec156",
   "metadata": {},
   "outputs": [],
   "source": [
    "#### Create the full file path\n",
    "file_path = os.path.join(directory, filename)"
   ]
  },
  {
   "cell_type": "code",
   "execution_count": 37,
   "id": "502a2072",
   "metadata": {},
   "outputs": [],
   "source": [
    "#### Export DataFrame to Excel\n",
    "df_whrtab.to_excel(file_path, index=False)"
   ]
  },
  {
   "cell_type": "code",
   "execution_count": 38,
   "id": "46e8c464",
   "metadata": {},
   "outputs": [
    {
     "name": "stdout",
     "output_type": "stream",
     "text": [
      "DataFrame exported to: C:\\Users\\cemel\\OneDrive\\Documents\\CareerFoundry Documents\\Data Immersion\\Achievement 6 Files\\My Python Scripts\\WHR 2023 Data Table for 2.1 (Python Cleaned).xlsx\n"
     ]
    }
   ],
   "source": [
    "print(f\"DataFrame exported to: {file_path}\")"
   ]
  }
 ],
 "metadata": {
  "kernelspec": {
   "display_name": "Python 3 (ipykernel)",
   "language": "python",
   "name": "python3"
  },
  "language_info": {
   "codemirror_mode": {
    "name": "ipython",
    "version": 3
   },
   "file_extension": ".py",
   "mimetype": "text/x-python",
   "name": "python",
   "nbconvert_exporter": "python",
   "pygments_lexer": "ipython3",
   "version": "3.11.8"
  }
 },
 "nbformat": 4,
 "nbformat_minor": 5
}
